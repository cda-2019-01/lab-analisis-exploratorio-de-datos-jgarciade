{
 "cells": [
  {
   "cell_type": "markdown",
   "metadata": {},
   "source": [
    "Evolución de los Precios de la Electricidad\n",
    "==="
   ]
  },
  {
   "cell_type": "markdown",
   "metadata": {},
   "source": [
    "# Instrucciones"
   ]
  },
  {
   "cell_type": "markdown",
   "metadata": {},
   "source": [
    "En el archivo `precios.zip`  se encuentran los archivos `Precio_Bolsa_Nacional_($kwh)_ano.xls` en formato de Microsoft Excel, los cuales contienen los precios históricos horarios de la electricidad para el mercado eléctrico Colombiano entre los años 1995 y 2017 en COL-PESOS/kWh. A partir de la información suministrada realice las siguientes actividades. "
   ]
  },
  {
   "cell_type": "markdown",
   "metadata": {},
   "source": [
    "**1.--** Lea los archivos y cree una tabla única concatenando la información para cada uno de los años. Debe transformar la tabla de tal forma que quede con las columnas `Fecha`, `Hora` y `Precio` (únicamente tres columnas)."
   ]
  },
  {
   "cell_type": "markdown",
   "metadata": {},
   "source": [
    "**2.--** Compute e imprima el número de registros con datos faltantes."
   ]
  },
  {
   "cell_type": "markdown",
   "metadata": {},
   "source": [
    "**3.--** Compute e imprima el número de registros duplicados."
   ]
  },
  {
   "cell_type": "markdown",
   "metadata": {},
   "source": [
    "**4.--** Elimine los registros con datos duplicados o datos faltantes, e imprima la cantidad de registros que quedan (registros completos)."
   ]
  },
  {
   "cell_type": "markdown",
   "metadata": {},
   "source": [
    "**5.--** Compute y grafique el precio primedio diario."
   ]
  },
  {
   "cell_type": "markdown",
   "metadata": {},
   "source": [
    "**6.--** Compute y grafique el precio máximo por mes."
   ]
  },
  {
   "cell_type": "markdown",
   "metadata": {},
   "source": [
    "**7.--** Compute y grafique el precio mínimo mensual."
   ]
  },
  {
   "cell_type": "markdown",
   "metadata": {},
   "source": [
    "**8.--** Haga un gráfico para comparar el precio máximo del mes (para cada mes) y el precio promedio mensual."
   ]
  },
  {
   "cell_type": "markdown",
   "metadata": {},
   "source": [
    "**9.--** Haga un histograma que muestre a que horas se produce el máximo precio diario para los días laborales."
   ]
  },
  {
   "cell_type": "markdown",
   "metadata": {},
   "source": [
    "**10.--** Haga un histograma que muestre a que horas se produce el máximo precio diario para los días sabado."
   ]
  },
  {
   "cell_type": "markdown",
   "metadata": {},
   "source": [
    "**11.--** Haga un histograma que muestre a que horas se produce el máximo precio diario para los días domingo."
   ]
  },
  {
   "cell_type": "markdown",
   "metadata": {},
   "source": [
    "**12.--** Imprima una tabla con la fecha y el valor más bajo por año del precio de bolsa."
   ]
  },
  {
   "cell_type": "markdown",
   "metadata": {},
   "source": [
    "**13.--** Haga una gráfica en que se muestre el precio promedio diario y el precio promedio mensual."
   ]
  },
  {
   "cell_type": "markdown",
   "metadata": {},
   "source": [
    "---"
   ]
  },
  {
   "cell_type": "markdown",
   "metadata": {},
   "source": [
    "# Solución"
   ]
  },
  {
   "cell_type": "code",
   "execution_count": 1,
   "metadata": {},
   "outputs": [],
   "source": [
    "# Libraries\n",
    "\n",
    "import pandas as pd\n",
    "import datetime as dt\n",
    "import matplotlib.pyplot as plt\n",
    "import matplotlib as mpl\n",
    "import numpy as np\n",
    "from os import listdir\n",
    "import glob\n",
    "\n",
    "%matplotlib inline"
   ]
  },
  {
   "cell_type": "markdown",
   "metadata": {},
   "source": [
    "**1.--** Lea los archivos y cree una tabla única concatenando la información para cada uno de los años. Debe transformar la tabla de tal forma que quede con las columnas `Fecha`, `Hora` y `Precio` (únicamente tres columnas)."
   ]
  },
  {
   "cell_type": "code",
   "execution_count": 88,
   "metadata": {},
   "outputs": [
    {
     "data": {
      "text/plain": [
       "['precios/Precio_Bolsa_Nacional_($kwh)_1995.xlsx',\n",
       " 'precios/Precio_Bolsa_Nacional_($kwh)_1996.xlsx',\n",
       " 'precios/Precio_Bolsa_Nacional_($kwh)_1997.xlsx',\n",
       " 'precios/Precio_Bolsa_Nacional_($kwh)_1998.xlsx',\n",
       " 'precios/Precio_Bolsa_Nacional_($kwh)_1999.xlsx',\n",
       " 'precios/Precio_Bolsa_Nacional_($kwh)_2000.xlsx',\n",
       " 'precios/Precio_Bolsa_Nacional_($kwh)_2001.xlsx',\n",
       " 'precios/Precio_Bolsa_Nacional_($kwh)_2002.xlsx',\n",
       " 'precios/Precio_Bolsa_Nacional_($kwh)_2003.xlsx',\n",
       " 'precios/Precio_Bolsa_Nacional_($kwh)_2004.xlsx',\n",
       " 'precios/Precio_Bolsa_Nacional_($kwh)_2005.xlsx',\n",
       " 'precios/Precio_Bolsa_Nacional_($kwh)_2006.xlsx',\n",
       " 'precios/Precio_Bolsa_Nacional_($kwh)_2007.xlsx',\n",
       " 'precios/Precio_Bolsa_Nacional_($kwh)_2008.xlsx',\n",
       " 'precios/Precio_Bolsa_Nacional_($kwh)_2009.xlsx',\n",
       " 'precios/Precio_Bolsa_Nacional_($kwh)_2010.xlsx',\n",
       " 'precios/Precio_Bolsa_Nacional_($kwh)_2011.xlsx',\n",
       " 'precios/Precio_Bolsa_Nacional_($kwh)_2012.xlsx',\n",
       " 'precios/Precio_Bolsa_Nacional_($kwh)_2013.xlsx',\n",
       " 'precios/Precio_Bolsa_Nacional_($kwh)_2014.xlsx',\n",
       " 'precios/Precio_Bolsa_Nacional_($kwh)_2015.xlsx',\n",
       " 'precios/Precio_Bolsa_Nacional_($kwh)_2016.xls',\n",
       " 'precios/Precio_Bolsa_Nacional_($kwh)_2017.xls',\n",
       " 'precios/Precio_Bolsa_Nacional_($kwh)_2018.xls']"
      ]
     },
     "execution_count": 88,
     "metadata": {},
     "output_type": "execute_result"
    }
   ],
   "source": [
    "path = 'precios/'\n",
    "files = listdir(path)\n",
    "file_names = [f'{path}{file}' for file in files if (file.endswith('xls') or file.endswith('xlsx'))]\n",
    "file_names.sort()\n",
    "file_names"
   ]
  },
  {
   "cell_type": "code",
   "execution_count": 180,
   "metadata": {},
   "outputs": [],
   "source": [
    "def read_data_file(path):\n",
    "    '''\n",
    "    Reads the data from the xlsx files, deleting nan heads values\n",
    "    '''\n",
    "    \n",
    "    index = 0\n",
    "    data = pd.read_excel(path, skiprows=index)\n",
    "    data.iloc[:,0] = data.iloc[:,0].astype(str)\n",
    "    while data.iloc[0,0] != 'Fecha':\n",
    "        data = pd.read_excel(path, skiprows=index, usecols=list(range(25)))\n",
    "        data.iloc[:,0] = data.iloc[:,0].astype(str)\n",
    "        index += 1\n",
    "    data = pd.read_excel(path, skiprows=index, usecols=list(range(25)))\n",
    "    data.iloc[:,0] = data.iloc[:,0].astype(str)\n",
    "    return data\n"
   ]
  },
  {
   "cell_type": "code",
   "execution_count": 181,
   "metadata": {},
   "outputs": [],
   "source": [
    "dfs = []\n",
    "for file in file_names:\n",
    "    dfs.append(read_data_file(file))\n",
    "dfs = pd.concat(dfs)"
   ]
  },
  {
   "cell_type": "code",
   "execution_count": 190,
   "metadata": {},
   "outputs": [
    {
     "data": {
      "text/html": [
       "<div>\n",
       "<style scoped>\n",
       "    .dataframe tbody tr th:only-of-type {\n",
       "        vertical-align: middle;\n",
       "    }\n",
       "\n",
       "    .dataframe tbody tr th {\n",
       "        vertical-align: top;\n",
       "    }\n",
       "\n",
       "    .dataframe thead th {\n",
       "        text-align: right;\n",
       "    }\n",
       "</style>\n",
       "<table border=\"1\" class=\"dataframe\">\n",
       "  <thead>\n",
       "    <tr style=\"text-align: right;\">\n",
       "      <th></th>\n",
       "      <th>Fecha</th>\n",
       "      <th>Hora</th>\n",
       "      <th>Precio</th>\n",
       "    </tr>\n",
       "  </thead>\n",
       "  <tbody>\n",
       "    <tr>\n",
       "      <th>201811</th>\n",
       "      <td>2018-05-01</td>\n",
       "      <td>23</td>\n",
       "      <td>64.229226</td>\n",
       "    </tr>\n",
       "    <tr>\n",
       "      <th>201812</th>\n",
       "      <td>2018-05-02</td>\n",
       "      <td>23</td>\n",
       "      <td>67.832816</td>\n",
       "    </tr>\n",
       "    <tr>\n",
       "      <th>201813</th>\n",
       "      <td>2018-05-03</td>\n",
       "      <td>23</td>\n",
       "      <td>63.710848</td>\n",
       "    </tr>\n",
       "    <tr>\n",
       "      <th>201814</th>\n",
       "      <td>2018-05-04</td>\n",
       "      <td>23</td>\n",
       "      <td>64.043453</td>\n",
       "    </tr>\n",
       "    <tr>\n",
       "      <th>201815</th>\n",
       "      <td>2018-05-05</td>\n",
       "      <td>23</td>\n",
       "      <td>75.242918</td>\n",
       "    </tr>\n",
       "  </tbody>\n",
       "</table>\n",
       "</div>"
      ],
      "text/plain": [
       "            Fecha Hora     Precio\n",
       "201811 2018-05-01   23  64.229226\n",
       "201812 2018-05-02   23  67.832816\n",
       "201813 2018-05-03   23  63.710848\n",
       "201814 2018-05-04   23  64.043453\n",
       "201815 2018-05-05   23  75.242918"
      ]
     },
     "execution_count": 190,
     "metadata": {},
     "output_type": "execute_result"
    }
   ],
   "source": [
    "# Pivots hours (columns) as rows\n",
    "result=pd.melt(dfs,id_vars=['Fecha'], var_name='Hora', value_name='Precio')\n",
    "\n",
    "# Formats the date\n",
    "result['Fecha'] = pd.to_datetime(result['Fecha'], format='%Y-%m-%d')\n",
    "result.tail()"
   ]
  },
  {
   "cell_type": "markdown",
   "metadata": {},
   "source": [
    "**2.--** Compute e imprima el número de registros con datos faltantes."
   ]
  },
  {
   "cell_type": "code",
   "execution_count": 191,
   "metadata": {},
   "outputs": [
    {
     "data": {
      "text/plain": [
       "454"
      ]
     },
     "execution_count": 191,
     "metadata": {},
     "output_type": "execute_result"
    }
   ],
   "source": [
    "result.isnull().sum().sum()"
   ]
  },
  {
   "cell_type": "markdown",
   "metadata": {},
   "source": [
    "**3.--** Compute e imprima el número de registros duplicados."
   ]
  },
  {
   "cell_type": "code",
   "execution_count": 198,
   "metadata": {},
   "outputs": [
    {
     "data": {
      "text/html": [
       "<div>\n",
       "<style scoped>\n",
       "    .dataframe tbody tr th:only-of-type {\n",
       "        vertical-align: middle;\n",
       "    }\n",
       "\n",
       "    .dataframe tbody tr th {\n",
       "        vertical-align: top;\n",
       "    }\n",
       "\n",
       "    .dataframe thead th {\n",
       "        text-align: right;\n",
       "    }\n",
       "</style>\n",
       "<table border=\"1\" class=\"dataframe\">\n",
       "  <thead>\n",
       "    <tr style=\"text-align: right;\">\n",
       "      <th></th>\n",
       "      <th>Fecha</th>\n",
       "      <th>Hora</th>\n",
       "      <th>Precio</th>\n",
       "    </tr>\n",
       "  </thead>\n",
       "  <tbody>\n",
       "    <tr>\n",
       "      <th>531</th>\n",
       "      <td>1996-12-06</td>\n",
       "      <td>0</td>\n",
       "      <td>20.000000</td>\n",
       "    </tr>\n",
       "    <tr>\n",
       "      <th>532</th>\n",
       "      <td>1996-12-07</td>\n",
       "      <td>0</td>\n",
       "      <td>9.800000</td>\n",
       "    </tr>\n",
       "    <tr>\n",
       "      <th>533</th>\n",
       "      <td>1996-12-08</td>\n",
       "      <td>0</td>\n",
       "      <td>13.200000</td>\n",
       "    </tr>\n",
       "    <tr>\n",
       "      <th>534</th>\n",
       "      <td>1996-12-09</td>\n",
       "      <td>0</td>\n",
       "      <td>13.000000</td>\n",
       "    </tr>\n",
       "    <tr>\n",
       "      <th>535</th>\n",
       "      <td>1996-12-10</td>\n",
       "      <td>0</td>\n",
       "      <td>12.000000</td>\n",
       "    </tr>\n",
       "    <tr>\n",
       "      <th>536</th>\n",
       "      <td>1996-12-11</td>\n",
       "      <td>0</td>\n",
       "      <td>4.000000</td>\n",
       "    </tr>\n",
       "    <tr>\n",
       "      <th>537</th>\n",
       "      <td>1996-12-12</td>\n",
       "      <td>0</td>\n",
       "      <td>3.000000</td>\n",
       "    </tr>\n",
       "    <tr>\n",
       "      <th>538</th>\n",
       "      <td>1996-01-02</td>\n",
       "      <td>0</td>\n",
       "      <td>10.000000</td>\n",
       "    </tr>\n",
       "    <tr>\n",
       "      <th>539</th>\n",
       "      <td>1996-01-03</td>\n",
       "      <td>0</td>\n",
       "      <td>12.000000</td>\n",
       "    </tr>\n",
       "    <tr>\n",
       "      <th>540</th>\n",
       "      <td>1996-01-04</td>\n",
       "      <td>0</td>\n",
       "      <td>12.800000</td>\n",
       "    </tr>\n",
       "    <tr>\n",
       "      <th>541</th>\n",
       "      <td>1996-01-05</td>\n",
       "      <td>0</td>\n",
       "      <td>18.000000</td>\n",
       "    </tr>\n",
       "    <tr>\n",
       "      <th>542</th>\n",
       "      <td>1996-01-06</td>\n",
       "      <td>0</td>\n",
       "      <td>14.000000</td>\n",
       "    </tr>\n",
       "    <tr>\n",
       "      <th>1273</th>\n",
       "      <td>1998-01-03</td>\n",
       "      <td>0</td>\n",
       "      <td>124.770920</td>\n",
       "    </tr>\n",
       "    <tr>\n",
       "      <th>1274</th>\n",
       "      <td>1998-01-04</td>\n",
       "      <td>0</td>\n",
       "      <td>107.229920</td>\n",
       "    </tr>\n",
       "    <tr>\n",
       "      <th>1275</th>\n",
       "      <td>1998-01-05</td>\n",
       "      <td>0</td>\n",
       "      <td>92.178920</td>\n",
       "    </tr>\n",
       "    <tr>\n",
       "      <th>1276</th>\n",
       "      <td>1998-01-06</td>\n",
       "      <td>0</td>\n",
       "      <td>124.451920</td>\n",
       "    </tr>\n",
       "    <tr>\n",
       "      <th>1277</th>\n",
       "      <td>1998-01-07</td>\n",
       "      <td>0</td>\n",
       "      <td>125.884920</td>\n",
       "    </tr>\n",
       "    <tr>\n",
       "      <th>1278</th>\n",
       "      <td>1998-01-08</td>\n",
       "      <td>0</td>\n",
       "      <td>127.178920</td>\n",
       "    </tr>\n",
       "    <tr>\n",
       "      <th>1279</th>\n",
       "      <td>1998-12-16</td>\n",
       "      <td>0</td>\n",
       "      <td>21.146150</td>\n",
       "    </tr>\n",
       "    <tr>\n",
       "      <th>1280</th>\n",
       "      <td>1998-12-17</td>\n",
       "      <td>0</td>\n",
       "      <td>21.146150</td>\n",
       "    </tr>\n",
       "    <tr>\n",
       "      <th>1281</th>\n",
       "      <td>1998-12-18</td>\n",
       "      <td>0</td>\n",
       "      <td>21.146150</td>\n",
       "    </tr>\n",
       "    <tr>\n",
       "      <th>1282</th>\n",
       "      <td>1998-12-19</td>\n",
       "      <td>0</td>\n",
       "      <td>21.146150</td>\n",
       "    </tr>\n",
       "    <tr>\n",
       "      <th>1283</th>\n",
       "      <td>1998-12-20</td>\n",
       "      <td>0</td>\n",
       "      <td>21.146150</td>\n",
       "    </tr>\n",
       "    <tr>\n",
       "      <th>1284</th>\n",
       "      <td>1998-12-21</td>\n",
       "      <td>0</td>\n",
       "      <td>19.821150</td>\n",
       "    </tr>\n",
       "    <tr>\n",
       "      <th>1285</th>\n",
       "      <td>1998-12-22</td>\n",
       "      <td>0</td>\n",
       "      <td>19.821150</td>\n",
       "    </tr>\n",
       "    <tr>\n",
       "      <th>1286</th>\n",
       "      <td>1998-12-23</td>\n",
       "      <td>0</td>\n",
       "      <td>19.821150</td>\n",
       "    </tr>\n",
       "    <tr>\n",
       "      <th>1287</th>\n",
       "      <td>1998-12-24</td>\n",
       "      <td>0</td>\n",
       "      <td>19.817150</td>\n",
       "    </tr>\n",
       "    <tr>\n",
       "      <th>1288</th>\n",
       "      <td>1998-12-25</td>\n",
       "      <td>0</td>\n",
       "      <td>25.146150</td>\n",
       "    </tr>\n",
       "    <tr>\n",
       "      <th>1289</th>\n",
       "      <td>1998-12-26</td>\n",
       "      <td>0</td>\n",
       "      <td>19.821150</td>\n",
       "    </tr>\n",
       "    <tr>\n",
       "      <th>1290</th>\n",
       "      <td>1998-12-27</td>\n",
       "      <td>0</td>\n",
       "      <td>19.821150</td>\n",
       "    </tr>\n",
       "    <tr>\n",
       "      <th>...</th>\n",
       "      <td>...</td>\n",
       "      <td>...</td>\n",
       "      <td>...</td>\n",
       "    </tr>\n",
       "    <tr>\n",
       "      <th>197998</th>\n",
       "      <td>2007-01-03</td>\n",
       "      <td>23</td>\n",
       "      <td>57.598943</td>\n",
       "    </tr>\n",
       "    <tr>\n",
       "      <th>197999</th>\n",
       "      <td>2007-01-04</td>\n",
       "      <td>23</td>\n",
       "      <td>68.098943</td>\n",
       "    </tr>\n",
       "    <tr>\n",
       "      <th>198000</th>\n",
       "      <td>2007-01-05</td>\n",
       "      <td>23</td>\n",
       "      <td>71.098943</td>\n",
       "    </tr>\n",
       "    <tr>\n",
       "      <th>198001</th>\n",
       "      <td>2007-01-06</td>\n",
       "      <td>23</td>\n",
       "      <td>75.098943</td>\n",
       "    </tr>\n",
       "    <tr>\n",
       "      <th>198002</th>\n",
       "      <td>2007-01-07</td>\n",
       "      <td>23</td>\n",
       "      <td>84.598943</td>\n",
       "    </tr>\n",
       "    <tr>\n",
       "      <th>198003</th>\n",
       "      <td>2007-01-08</td>\n",
       "      <td>23</td>\n",
       "      <td>85.198943</td>\n",
       "    </tr>\n",
       "    <tr>\n",
       "      <th>198004</th>\n",
       "      <td>2007-01-09</td>\n",
       "      <td>23</td>\n",
       "      <td>85.498943</td>\n",
       "    </tr>\n",
       "    <tr>\n",
       "      <th>198005</th>\n",
       "      <td>2007-01-10</td>\n",
       "      <td>23</td>\n",
       "      <td>87.598943</td>\n",
       "    </tr>\n",
       "    <tr>\n",
       "      <th>198006</th>\n",
       "      <td>2007-01-11</td>\n",
       "      <td>23</td>\n",
       "      <td>90.598943</td>\n",
       "    </tr>\n",
       "    <tr>\n",
       "      <th>198007</th>\n",
       "      <td>2007-01-12</td>\n",
       "      <td>23</td>\n",
       "      <td>93.098943</td>\n",
       "    </tr>\n",
       "    <tr>\n",
       "      <th>198008</th>\n",
       "      <td>2007-01-13</td>\n",
       "      <td>23</td>\n",
       "      <td>96.598943</td>\n",
       "    </tr>\n",
       "    <tr>\n",
       "      <th>198009</th>\n",
       "      <td>2007-01-14</td>\n",
       "      <td>23</td>\n",
       "      <td>95.598943</td>\n",
       "    </tr>\n",
       "    <tr>\n",
       "      <th>198010</th>\n",
       "      <td>2007-01-15</td>\n",
       "      <td>23</td>\n",
       "      <td>92.598943</td>\n",
       "    </tr>\n",
       "    <tr>\n",
       "      <th>198011</th>\n",
       "      <td>2007-01-16</td>\n",
       "      <td>23</td>\n",
       "      <td>80.657943</td>\n",
       "    </tr>\n",
       "    <tr>\n",
       "      <th>198744</th>\n",
       "      <td>2009-12-16</td>\n",
       "      <td>23</td>\n",
       "      <td>266.856503</td>\n",
       "    </tr>\n",
       "    <tr>\n",
       "      <th>198745</th>\n",
       "      <td>2009-12-17</td>\n",
       "      <td>23</td>\n",
       "      <td>256.456503</td>\n",
       "    </tr>\n",
       "    <tr>\n",
       "      <th>198746</th>\n",
       "      <td>2009-12-18</td>\n",
       "      <td>23</td>\n",
       "      <td>253.456503</td>\n",
       "    </tr>\n",
       "    <tr>\n",
       "      <th>198747</th>\n",
       "      <td>2009-12-19</td>\n",
       "      <td>23</td>\n",
       "      <td>251.956503</td>\n",
       "    </tr>\n",
       "    <tr>\n",
       "      <th>198748</th>\n",
       "      <td>2009-12-20</td>\n",
       "      <td>23</td>\n",
       "      <td>248.456503</td>\n",
       "    </tr>\n",
       "    <tr>\n",
       "      <th>198749</th>\n",
       "      <td>2009-12-21</td>\n",
       "      <td>23</td>\n",
       "      <td>201.456503</td>\n",
       "    </tr>\n",
       "    <tr>\n",
       "      <th>198750</th>\n",
       "      <td>2009-12-22</td>\n",
       "      <td>23</td>\n",
       "      <td>104.194503</td>\n",
       "    </tr>\n",
       "    <tr>\n",
       "      <th>198751</th>\n",
       "      <td>2009-12-23</td>\n",
       "      <td>23</td>\n",
       "      <td>121.175503</td>\n",
       "    </tr>\n",
       "    <tr>\n",
       "      <th>198752</th>\n",
       "      <td>2009-12-24</td>\n",
       "      <td>23</td>\n",
       "      <td>117.144503</td>\n",
       "    </tr>\n",
       "    <tr>\n",
       "      <th>198753</th>\n",
       "      <td>2009-12-25</td>\n",
       "      <td>23</td>\n",
       "      <td>144.465188</td>\n",
       "    </tr>\n",
       "    <tr>\n",
       "      <th>198754</th>\n",
       "      <td>2009-12-26</td>\n",
       "      <td>23</td>\n",
       "      <td>138.456503</td>\n",
       "    </tr>\n",
       "    <tr>\n",
       "      <th>198755</th>\n",
       "      <td>2009-12-27</td>\n",
       "      <td>23</td>\n",
       "      <td>116.956503</td>\n",
       "    </tr>\n",
       "    <tr>\n",
       "      <th>198756</th>\n",
       "      <td>2009-12-28</td>\n",
       "      <td>23</td>\n",
       "      <td>114.216503</td>\n",
       "    </tr>\n",
       "    <tr>\n",
       "      <th>198757</th>\n",
       "      <td>2009-12-29</td>\n",
       "      <td>23</td>\n",
       "      <td>119.456503</td>\n",
       "    </tr>\n",
       "    <tr>\n",
       "      <th>198758</th>\n",
       "      <td>2009-12-30</td>\n",
       "      <td>23</td>\n",
       "      <td>117.456503</td>\n",
       "    </tr>\n",
       "    <tr>\n",
       "      <th>198759</th>\n",
       "      <td>2009-12-31</td>\n",
       "      <td>23</td>\n",
       "      <td>130.607392</td>\n",
       "    </tr>\n",
       "  </tbody>\n",
       "</table>\n",
       "<p>1759 rows × 3 columns</p>\n",
       "</div>"
      ],
      "text/plain": [
       "            Fecha Hora      Precio\n",
       "531    1996-12-06    0   20.000000\n",
       "532    1996-12-07    0    9.800000\n",
       "533    1996-12-08    0   13.200000\n",
       "534    1996-12-09    0   13.000000\n",
       "535    1996-12-10    0   12.000000\n",
       "536    1996-12-11    0    4.000000\n",
       "537    1996-12-12    0    3.000000\n",
       "538    1996-01-02    0   10.000000\n",
       "539    1996-01-03    0   12.000000\n",
       "540    1996-01-04    0   12.800000\n",
       "541    1996-01-05    0   18.000000\n",
       "542    1996-01-06    0   14.000000\n",
       "1273   1998-01-03    0  124.770920\n",
       "1274   1998-01-04    0  107.229920\n",
       "1275   1998-01-05    0   92.178920\n",
       "1276   1998-01-06    0  124.451920\n",
       "1277   1998-01-07    0  125.884920\n",
       "1278   1998-01-08    0  127.178920\n",
       "1279   1998-12-16    0   21.146150\n",
       "1280   1998-12-17    0   21.146150\n",
       "1281   1998-12-18    0   21.146150\n",
       "1282   1998-12-19    0   21.146150\n",
       "1283   1998-12-20    0   21.146150\n",
       "1284   1998-12-21    0   19.821150\n",
       "1285   1998-12-22    0   19.821150\n",
       "1286   1998-12-23    0   19.821150\n",
       "1287   1998-12-24    0   19.817150\n",
       "1288   1998-12-25    0   25.146150\n",
       "1289   1998-12-26    0   19.821150\n",
       "1290   1998-12-27    0   19.821150\n",
       "...           ...  ...         ...\n",
       "197998 2007-01-03   23   57.598943\n",
       "197999 2007-01-04   23   68.098943\n",
       "198000 2007-01-05   23   71.098943\n",
       "198001 2007-01-06   23   75.098943\n",
       "198002 2007-01-07   23   84.598943\n",
       "198003 2007-01-08   23   85.198943\n",
       "198004 2007-01-09   23   85.498943\n",
       "198005 2007-01-10   23   87.598943\n",
       "198006 2007-01-11   23   90.598943\n",
       "198007 2007-01-12   23   93.098943\n",
       "198008 2007-01-13   23   96.598943\n",
       "198009 2007-01-14   23   95.598943\n",
       "198010 2007-01-15   23   92.598943\n",
       "198011 2007-01-16   23   80.657943\n",
       "198744 2009-12-16   23  266.856503\n",
       "198745 2009-12-17   23  256.456503\n",
       "198746 2009-12-18   23  253.456503\n",
       "198747 2009-12-19   23  251.956503\n",
       "198748 2009-12-20   23  248.456503\n",
       "198749 2009-12-21   23  201.456503\n",
       "198750 2009-12-22   23  104.194503\n",
       "198751 2009-12-23   23  121.175503\n",
       "198752 2009-12-24   23  117.144503\n",
       "198753 2009-12-25   23  144.465188\n",
       "198754 2009-12-26   23  138.456503\n",
       "198755 2009-12-27   23  116.956503\n",
       "198756 2009-12-28   23  114.216503\n",
       "198757 2009-12-29   23  119.456503\n",
       "198758 2009-12-30   23  117.456503\n",
       "198759 2009-12-31   23  130.607392\n",
       "\n",
       "[1759 rows x 3 columns]"
      ]
     },
     "execution_count": 198,
     "metadata": {},
     "output_type": "execute_result"
    }
   ],
   "source": [
    "duplicated = result[result.duplicated()]\n",
    "duplicated = duplicated.dropna()\n",
    "duplicated"
   ]
  },
  {
   "cell_type": "code",
   "execution_count": 200,
   "metadata": {},
   "outputs": [
    {
     "data": {
      "text/plain": [
       "Fecha     1759\n",
       "Hora      1759\n",
       "Precio    1759\n",
       "dtype: int64"
      ]
     },
     "execution_count": 200,
     "metadata": {},
     "output_type": "execute_result"
    }
   ],
   "source": [
    "print(f'duplicated.shape[0]\n"
   ]
  },
  {
   "cell_type": "markdown",
   "metadata": {},
   "source": [
    "---"
   ]
  }
 ],
 "metadata": {
  "anaconda-cloud": {},
  "kernel_info": {
   "name": "python3"
  },
  "kernelspec": {
   "display_name": "Python 3",
   "language": "python",
   "name": "python3"
  },
  "language_info": {
   "codemirror_mode": {
    "name": "ipython",
    "version": 3
   },
   "file_extension": ".py",
   "mimetype": "text/x-python",
   "name": "python",
   "nbconvert_exporter": "python",
   "pygments_lexer": "ipython3",
   "version": "3.6.7"
  },
  "nteract": {
   "version": "0.7.1"
  }
 },
 "nbformat": 4,
 "nbformat_minor": 2
}
