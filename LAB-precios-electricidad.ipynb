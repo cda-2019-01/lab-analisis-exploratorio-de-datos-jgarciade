{
 "cells": [
  {
   "cell_type": "markdown",
   "metadata": {},
   "source": [
    "Evolución de los Precios de la Electricidad\n",
    "==="
   ]
  },
  {
   "cell_type": "markdown",
   "metadata": {},
   "source": [
    "# Instrucciones"
   ]
  },
  {
   "cell_type": "markdown",
   "metadata": {},
   "source": [
    "En el archivo `precios.zip`  se encuentran los archivos `Precio_Bolsa_Nacional_($kwh)_ano.xls` en formato de Microsoft Excel, los cuales contienen los precios históricos horarios de la electricidad para el mercado eléctrico Colombiano entre los años 1995 y 2017 en COL-PESOS/kWh. A partir de la información suministrada realice las siguientes actividades. "
   ]
  },
  {
   "cell_type": "markdown",
   "metadata": {},
   "source": [
    "**1.--** Lea los archivos y cree una tabla única concatenando la información para cada uno de los años. Debe transformar la tabla de tal forma que quede con las columnas `Fecha`, `Hora` y `Precio` (únicamente tres columnas)."
   ]
  },
  {
   "cell_type": "markdown",
   "metadata": {},
   "source": [
    "**2.--** Compute e imprima el número de registros con datos faltantes."
   ]
  },
  {
   "cell_type": "markdown",
   "metadata": {},
   "source": [
    "**3.--** Compute e imprima el número de registros duplicados."
   ]
  },
  {
   "cell_type": "markdown",
   "metadata": {},
   "source": [
    "**4.--** Elimine los registros con datos duplicados o datos faltantes, e imprima la cantidad de registros que quedan (registros completos)."
   ]
  },
  {
   "cell_type": "markdown",
   "metadata": {},
   "source": [
    "**5.--** Compute y grafique el precio primedio diario."
   ]
  },
  {
   "cell_type": "markdown",
   "metadata": {},
   "source": [
    "**6.--** Compute y grafique el precio máximo por mes."
   ]
  },
  {
   "cell_type": "markdown",
   "metadata": {},
   "source": [
    "**7.--** Compute y grafique el precio mínimo mensual."
   ]
  },
  {
   "cell_type": "markdown",
   "metadata": {},
   "source": [
    "**8.--** Haga un gráfico para comparar el precio máximo del mes (para cada mes) y el precio promedio mensual."
   ]
  },
  {
   "cell_type": "markdown",
   "metadata": {},
   "source": [
    "**9.--** Haga un histograma que muestre a que horas se produce el máximo precio diario para los días laborales."
   ]
  },
  {
   "cell_type": "markdown",
   "metadata": {},
   "source": [
    "**10.--** Haga un histograma que muestre a que horas se produce el máximo precio diario para los días sabado."
   ]
  },
  {
   "cell_type": "markdown",
   "metadata": {},
   "source": [
    "**11.--** Haga un histograma que muestre a que horas se produce el máximo precio diario para los días domingo."
   ]
  },
  {
   "cell_type": "markdown",
   "metadata": {},
   "source": [
    "**12.--** Imprima una tabla con la fecha y el valor más bajo por año del precio de bolsa."
   ]
  },
  {
   "cell_type": "markdown",
   "metadata": {},
   "source": [
    "**13.--** Haga una gráfica en que se muestre el precio promedio diario y el precio promedio mensual."
   ]
  },
  {
   "cell_type": "markdown",
   "metadata": {},
   "source": [
    "---"
   ]
  },
  {
   "cell_type": "markdown",
   "metadata": {},
   "source": [
    "# Solución"
   ]
  },
  {
   "cell_type": "code",
   "execution_count": 1,
   "metadata": {},
   "outputs": [],
   "source": [
    "# Libraries\n",
    "\n",
    "import pandas as pd\n",
    "import datetime as dt\n",
    "import matplotlib.pyplot as plt\n",
    "import matplotlib as mpl\n",
    "import numpy as np\n",
    "from os import listdir\n",
    "import glob\n",
    "\n",
    "%matplotlib inline"
   ]
  },
  {
   "cell_type": "markdown",
   "metadata": {},
   "source": [
    "**1.--** Lea los archivos y cree una tabla única concatenando la información para cada uno de los años. Debe transformar la tabla de tal forma que quede con las columnas `Fecha`, `Hora` y `Precio` (únicamente tres columnas)."
   ]
  },
  {
   "cell_type": "code",
   "execution_count": 88,
   "metadata": {},
   "outputs": [
    {
     "data": {
      "text/plain": [
       "['precios/Precio_Bolsa_Nacional_($kwh)_1995.xlsx',\n",
       " 'precios/Precio_Bolsa_Nacional_($kwh)_1996.xlsx',\n",
       " 'precios/Precio_Bolsa_Nacional_($kwh)_1997.xlsx',\n",
       " 'precios/Precio_Bolsa_Nacional_($kwh)_1998.xlsx',\n",
       " 'precios/Precio_Bolsa_Nacional_($kwh)_1999.xlsx',\n",
       " 'precios/Precio_Bolsa_Nacional_($kwh)_2000.xlsx',\n",
       " 'precios/Precio_Bolsa_Nacional_($kwh)_2001.xlsx',\n",
       " 'precios/Precio_Bolsa_Nacional_($kwh)_2002.xlsx',\n",
       " 'precios/Precio_Bolsa_Nacional_($kwh)_2003.xlsx',\n",
       " 'precios/Precio_Bolsa_Nacional_($kwh)_2004.xlsx',\n",
       " 'precios/Precio_Bolsa_Nacional_($kwh)_2005.xlsx',\n",
       " 'precios/Precio_Bolsa_Nacional_($kwh)_2006.xlsx',\n",
       " 'precios/Precio_Bolsa_Nacional_($kwh)_2007.xlsx',\n",
       " 'precios/Precio_Bolsa_Nacional_($kwh)_2008.xlsx',\n",
       " 'precios/Precio_Bolsa_Nacional_($kwh)_2009.xlsx',\n",
       " 'precios/Precio_Bolsa_Nacional_($kwh)_2010.xlsx',\n",
       " 'precios/Precio_Bolsa_Nacional_($kwh)_2011.xlsx',\n",
       " 'precios/Precio_Bolsa_Nacional_($kwh)_2012.xlsx',\n",
       " 'precios/Precio_Bolsa_Nacional_($kwh)_2013.xlsx',\n",
       " 'precios/Precio_Bolsa_Nacional_($kwh)_2014.xlsx',\n",
       " 'precios/Precio_Bolsa_Nacional_($kwh)_2015.xlsx',\n",
       " 'precios/Precio_Bolsa_Nacional_($kwh)_2016.xls',\n",
       " 'precios/Precio_Bolsa_Nacional_($kwh)_2017.xls',\n",
       " 'precios/Precio_Bolsa_Nacional_($kwh)_2018.xls']"
      ]
     },
     "execution_count": 88,
     "metadata": {},
     "output_type": "execute_result"
    }
   ],
   "source": [
    "path = 'precios/'\n",
    "files = listdir(path)\n",
    "file_names = [f'{path}{file}' for file in files if (file.endswith('xls') or file.endswith('xlsx'))]\n",
    "file_names.sort()\n",
    "file_names"
   ]
  },
  {
   "cell_type": "code",
   "execution_count": 180,
   "metadata": {},
   "outputs": [],
   "source": [
    "def read_data_file(path):\n",
    "    '''\n",
    "    Reads the data from the xlsx files, deleting nan heads values\n",
    "    '''\n",
    "    \n",
    "    index = 0\n",
    "    data = pd.read_excel(path, skiprows=index)\n",
    "    data.iloc[:,0] = data.iloc[:,0].astype(str)\n",
    "    while data.iloc[0,0] != 'Fecha':\n",
    "        data = pd.read_excel(path, skiprows=index, usecols=list(range(25)))\n",
    "        data.iloc[:,0] = data.iloc[:,0].astype(str)\n",
    "        index += 1\n",
    "    data = pd.read_excel(path, skiprows=index, usecols=list(range(25)))\n",
    "    data.iloc[:,0] = data.iloc[:,0].astype(str)\n",
    "    return data\n"
   ]
  },
  {
   "cell_type": "code",
   "execution_count": 181,
   "metadata": {},
   "outputs": [],
   "source": [
    "dfs = []\n",
    "for file in file_names:\n",
    "    dfs.append(read_data_file(file))\n",
    "dfs = pd.concat(dfs)"
   ]
  },
  {
   "cell_type": "code",
   "execution_count": 211,
   "metadata": {},
   "outputs": [
    {
     "data": {
      "text/html": [
       "<div>\n",
       "<style scoped>\n",
       "    .dataframe tbody tr th:only-of-type {\n",
       "        vertical-align: middle;\n",
       "    }\n",
       "\n",
       "    .dataframe tbody tr th {\n",
       "        vertical-align: top;\n",
       "    }\n",
       "\n",
       "    .dataframe thead th {\n",
       "        text-align: right;\n",
       "    }\n",
       "</style>\n",
       "<table border=\"1\" class=\"dataframe\">\n",
       "  <thead>\n",
       "    <tr style=\"text-align: right;\">\n",
       "      <th></th>\n",
       "      <th>Fecha</th>\n",
       "      <th>Hora</th>\n",
       "      <th>Precio</th>\n",
       "    </tr>\n",
       "  </thead>\n",
       "  <tbody>\n",
       "    <tr>\n",
       "      <th>201811</th>\n",
       "      <td>2018-05-01</td>\n",
       "      <td>23</td>\n",
       "      <td>64.229226</td>\n",
       "    </tr>\n",
       "    <tr>\n",
       "      <th>201812</th>\n",
       "      <td>2018-05-02</td>\n",
       "      <td>23</td>\n",
       "      <td>67.832816</td>\n",
       "    </tr>\n",
       "    <tr>\n",
       "      <th>201813</th>\n",
       "      <td>2018-05-03</td>\n",
       "      <td>23</td>\n",
       "      <td>63.710848</td>\n",
       "    </tr>\n",
       "    <tr>\n",
       "      <th>201814</th>\n",
       "      <td>2018-05-04</td>\n",
       "      <td>23</td>\n",
       "      <td>64.043453</td>\n",
       "    </tr>\n",
       "    <tr>\n",
       "      <th>201815</th>\n",
       "      <td>2018-05-05</td>\n",
       "      <td>23</td>\n",
       "      <td>75.242918</td>\n",
       "    </tr>\n",
       "  </tbody>\n",
       "</table>\n",
       "</div>"
      ],
      "text/plain": [
       "            Fecha Hora     Precio\n",
       "201811 2018-05-01   23  64.229226\n",
       "201812 2018-05-02   23  67.832816\n",
       "201813 2018-05-03   23  63.710848\n",
       "201814 2018-05-04   23  64.043453\n",
       "201815 2018-05-05   23  75.242918"
      ]
     },
     "execution_count": 211,
     "metadata": {},
     "output_type": "execute_result"
    }
   ],
   "source": [
    "# Pivots hours (columns) as rows\n",
    "result=pd.melt(dfs,id_vars=['Fecha'], var_name='Hora', value_name='Precio')\n",
    "\n",
    "# Formats the date\n",
    "result['Fecha'] = pd.to_datetime(result['Fecha'], format='%Y-%m-%d')\n",
    "result.tail()"
   ]
  },
  {
   "cell_type": "markdown",
   "metadata": {},
   "source": [
    "**2.--** Compute e imprima el número de registros con datos faltantes."
   ]
  },
  {
   "cell_type": "code",
   "execution_count": 212,
   "metadata": {},
   "outputs": [
    {
     "data": {
      "text/plain": [
       "454"
      ]
     },
     "execution_count": 212,
     "metadata": {},
     "output_type": "execute_result"
    }
   ],
   "source": [
    "result.isnull().sum().sum()"
   ]
  },
  {
   "cell_type": "code",
   "execution_count": 218,
   "metadata": {},
   "outputs": [
    {
     "data": {
      "text/plain": [
       "201816"
      ]
     },
     "execution_count": 218,
     "metadata": {},
     "output_type": "execute_result"
    }
   ],
   "source": [
    "result.shape[0]"
   ]
  },
  {
   "cell_type": "markdown",
   "metadata": {},
   "source": [
    "**3.--** Compute e imprima el número de registros duplicados."
   ]
  },
  {
   "cell_type": "code",
   "execution_count": 217,
   "metadata": {},
   "outputs": [
    {
     "data": {
      "text/html": [
       "<div>\n",
       "<style scoped>\n",
       "    .dataframe tbody tr th:only-of-type {\n",
       "        vertical-align: middle;\n",
       "    }\n",
       "\n",
       "    .dataframe tbody tr th {\n",
       "        vertical-align: top;\n",
       "    }\n",
       "\n",
       "    .dataframe thead th {\n",
       "        text-align: right;\n",
       "    }\n",
       "</style>\n",
       "<table border=\"1\" class=\"dataframe\">\n",
       "  <thead>\n",
       "    <tr style=\"text-align: right;\">\n",
       "      <th></th>\n",
       "      <th>Fecha</th>\n",
       "      <th>Hora</th>\n",
       "      <th>Precio</th>\n",
       "    </tr>\n",
       "  </thead>\n",
       "  <tbody>\n",
       "    <tr>\n",
       "      <th>531</th>\n",
       "      <td>1996-12-06</td>\n",
       "      <td>0</td>\n",
       "      <td>20.0</td>\n",
       "    </tr>\n",
       "    <tr>\n",
       "      <th>532</th>\n",
       "      <td>1996-12-07</td>\n",
       "      <td>0</td>\n",
       "      <td>9.8</td>\n",
       "    </tr>\n",
       "    <tr>\n",
       "      <th>533</th>\n",
       "      <td>1996-12-08</td>\n",
       "      <td>0</td>\n",
       "      <td>13.2</td>\n",
       "    </tr>\n",
       "    <tr>\n",
       "      <th>534</th>\n",
       "      <td>1996-12-09</td>\n",
       "      <td>0</td>\n",
       "      <td>13.0</td>\n",
       "    </tr>\n",
       "    <tr>\n",
       "      <th>535</th>\n",
       "      <td>1996-12-10</td>\n",
       "      <td>0</td>\n",
       "      <td>12.0</td>\n",
       "    </tr>\n",
       "  </tbody>\n",
       "</table>\n",
       "</div>"
      ],
      "text/plain": [
       "         Fecha Hora  Precio\n",
       "531 1996-12-06    0    20.0\n",
       "532 1996-12-07    0     9.8\n",
       "533 1996-12-08    0    13.2\n",
       "534 1996-12-09    0    13.0\n",
       "535 1996-12-10    0    12.0"
      ]
     },
     "execution_count": 217,
     "metadata": {},
     "output_type": "execute_result"
    }
   ],
   "source": [
    "duplicated = result[result.duplicated()]\n",
    "duplicated.head()"
   ]
  },
  {
   "cell_type": "code",
   "execution_count": 219,
   "metadata": {},
   "outputs": [
    {
     "name": "stdout",
     "output_type": "stream",
     "text": [
      "registros duplicados: 1951\n"
     ]
    }
   ],
   "source": [
    "number_of_duplicated = duplicated.shape[0]\n",
    "print(f'registros duplicados: {number_of_duplicated}')\n"
   ]
  },
  {
   "cell_type": "markdown",
   "metadata": {},
   "source": [
    "**4.--** Elimine los registros con datos duplicados o datos faltantes, e imprima la cantidad de registros que quedan (registros completos)."
   ]
  },
  {
   "cell_type": "code",
   "execution_count": 233,
   "metadata": {},
   "outputs": [
    {
     "name": "stdout",
     "output_type": "stream",
     "text": [
      "registros unicos: 199819\n"
     ]
    }
   ],
   "source": [
    "dfunique = result.copy()\n",
    "dfunique = dfunique.drop_duplicates()\n",
    "dfunique = dfunique.dropna()\n",
    "non_duplicated = dfunique.shape[0]\n",
    "print(f'registros unicos: {non_duplicated}')"
   ]
  },
  {
   "cell_type": "markdown",
   "metadata": {},
   "source": [
    "**5.--** Compute y grafique el precio primedio diario."
   ]
  },
  {
   "cell_type": "code",
   "execution_count": 267,
   "metadata": {},
   "outputs": [
    {
     "data": {
      "text/html": [
       "<div>\n",
       "<style scoped>\n",
       "    .dataframe tbody tr th:only-of-type {\n",
       "        vertical-align: middle;\n",
       "    }\n",
       "\n",
       "    .dataframe tbody tr th {\n",
       "        vertical-align: top;\n",
       "    }\n",
       "\n",
       "    .dataframe thead th {\n",
       "        text-align: right;\n",
       "    }\n",
       "</style>\n",
       "<table border=\"1\" class=\"dataframe\">\n",
       "  <thead>\n",
       "    <tr style=\"text-align: right;\">\n",
       "      <th></th>\n",
       "      <th>Precio</th>\n",
       "    </tr>\n",
       "    <tr>\n",
       "      <th>dia</th>\n",
       "      <th></th>\n",
       "    </tr>\n",
       "  </thead>\n",
       "  <tbody>\n",
       "    <tr>\n",
       "      <th>Friday</th>\n",
       "      <td>109.002536</td>\n",
       "    </tr>\n",
       "    <tr>\n",
       "      <th>Monday</th>\n",
       "      <td>107.178698</td>\n",
       "    </tr>\n",
       "    <tr>\n",
       "      <th>Saturday</th>\n",
       "      <td>105.943442</td>\n",
       "    </tr>\n",
       "    <tr>\n",
       "      <th>Sunday</th>\n",
       "      <td>100.252102</td>\n",
       "    </tr>\n",
       "    <tr>\n",
       "      <th>Thursday</th>\n",
       "      <td>109.882748</td>\n",
       "    </tr>\n",
       "    <tr>\n",
       "      <th>Tuesday</th>\n",
       "      <td>109.527951</td>\n",
       "    </tr>\n",
       "    <tr>\n",
       "      <th>Wednesday</th>\n",
       "      <td>110.692152</td>\n",
       "    </tr>\n",
       "  </tbody>\n",
       "</table>\n",
       "</div>"
      ],
      "text/plain": [
       "               Precio\n",
       "dia                  \n",
       "Friday     109.002536\n",
       "Monday     107.178698\n",
       "Saturday   105.943442\n",
       "Sunday     100.252102\n",
       "Thursday   109.882748\n",
       "Tuesday    109.527951\n",
       "Wednesday  110.692152"
      ]
     },
     "execution_count": 267,
     "metadata": {},
     "output_type": "execute_result"
    }
   ],
   "source": [
    "df_day = dfunique.copy()\n",
    "df_day['dia'] =  df_day[['Fecha']].apply(lambda x: dt.datetime.strftime(x['Fecha'], '%A'), axis=1)\n",
    "df_day = df_day.groupby('dia').apply(np.mean)\n",
    "df_day"
   ]
  },
  {
   "cell_type": "code",
   "execution_count": 273,
   "metadata": {},
   "outputs": [
    {
     "data": {
      "text/plain": [
       "<matplotlib.axes._subplots.AxesSubplot at 0x7f2bb43b4588>"
      ]
     },
     "execution_count": 273,
     "metadata": {},
     "output_type": "execute_result"
    },
    {
     "data": {
      "image/png": "[encoded data removed]",
      "text/plain": [
       "<Figure size 432x288 with 1 Axes>"
      ]
     },
     "metadata": {
      "needs_background": "light"
     },
     "output_type": "display_data"
    }
   ],
   "source": [
    "# Draws\n",
    "df_day.plot(kind=\"bar\")"
   ]
  },
  {
   "cell_type": "markdown",
   "metadata": {},
   "source": [
    "**6.--** Compute y grafique el precio máximo por mes."
   ]
  },
  {
   "cell_type": "code",
   "execution_count": 277,
   "metadata": {},
   "outputs": [
    {
     "data": {
      "text/html": [
       "<div>\n",
       "<style scoped>\n",
       "    .dataframe tbody tr th:only-of-type {\n",
       "        vertical-align: middle;\n",
       "    }\n",
       "\n",
       "    .dataframe tbody tr th {\n",
       "        vertical-align: top;\n",
       "    }\n",
       "\n",
       "    .dataframe thead th {\n",
       "        text-align: right;\n",
       "    }\n",
       "</style>\n",
       "<table border=\"1\" class=\"dataframe\">\n",
       "  <thead>\n",
       "    <tr style=\"text-align: right;\">\n",
       "      <th></th>\n",
       "      <th>Fecha</th>\n",
       "      <th>Hora</th>\n",
       "      <th>Precio</th>\n",
       "      <th>mes</th>\n",
       "    </tr>\n",
       "  </thead>\n",
       "  <tbody>\n",
       "    <tr>\n",
       "      <th>1</th>\n",
       "      <td>1995-07-21</td>\n",
       "      <td>0</td>\n",
       "      <td>1.073000</td>\n",
       "      <td>07</td>\n",
       "    </tr>\n",
       "    <tr>\n",
       "      <th>2</th>\n",
       "      <td>1995-07-22</td>\n",
       "      <td>0</td>\n",
       "      <td>1.073000</td>\n",
       "      <td>07</td>\n",
       "    </tr>\n",
       "    <tr>\n",
       "      <th>3</th>\n",
       "      <td>1995-07-23</td>\n",
       "      <td>0</td>\n",
       "      <td>1.073000</td>\n",
       "      <td>07</td>\n",
       "    </tr>\n",
       "    <tr>\n",
       "      <th>4</th>\n",
       "      <td>1995-07-24</td>\n",
       "      <td>0</td>\n",
       "      <td>1.000000</td>\n",
       "      <td>07</td>\n",
       "    </tr>\n",
       "    <tr>\n",
       "      <th>5</th>\n",
       "      <td>1995-07-25</td>\n",
       "      <td>0</td>\n",
       "      <td>0.990000</td>\n",
       "      <td>07</td>\n",
       "    </tr>\n",
       "    <tr>\n",
       "      <th>6</th>\n",
       "      <td>1995-07-26</td>\n",
       "      <td>0</td>\n",
       "      <td>0.500000</td>\n",
       "      <td>07</td>\n",
       "    </tr>\n",
       "    <tr>\n",
       "      <th>7</th>\n",
       "      <td>1995-07-27</td>\n",
       "      <td>0</td>\n",
       "      <td>0.500000</td>\n",
       "      <td>07</td>\n",
       "    </tr>\n",
       "    <tr>\n",
       "      <th>8</th>\n",
       "      <td>1995-07-28</td>\n",
       "      <td>0</td>\n",
       "      <td>0.000000</td>\n",
       "      <td>07</td>\n",
       "    </tr>\n",
       "    <tr>\n",
       "      <th>9</th>\n",
       "      <td>1995-07-29</td>\n",
       "      <td>0</td>\n",
       "      <td>1.000000</td>\n",
       "      <td>07</td>\n",
       "    </tr>\n",
       "    <tr>\n",
       "      <th>10</th>\n",
       "      <td>1995-07-30</td>\n",
       "      <td>0</td>\n",
       "      <td>1.072000</td>\n",
       "      <td>07</td>\n",
       "    </tr>\n",
       "    <tr>\n",
       "      <th>11</th>\n",
       "      <td>1995-07-31</td>\n",
       "      <td>0</td>\n",
       "      <td>0.000000</td>\n",
       "      <td>07</td>\n",
       "    </tr>\n",
       "    <tr>\n",
       "      <th>12</th>\n",
       "      <td>1995-08-01</td>\n",
       "      <td>0</td>\n",
       "      <td>0.000000</td>\n",
       "      <td>08</td>\n",
       "    </tr>\n",
       "    <tr>\n",
       "      <th>13</th>\n",
       "      <td>1995-08-02</td>\n",
       "      <td>0</td>\n",
       "      <td>1.073000</td>\n",
       "      <td>08</td>\n",
       "    </tr>\n",
       "    <tr>\n",
       "      <th>14</th>\n",
       "      <td>1995-08-03</td>\n",
       "      <td>0</td>\n",
       "      <td>1.073000</td>\n",
       "      <td>08</td>\n",
       "    </tr>\n",
       "    <tr>\n",
       "      <th>15</th>\n",
       "      <td>1995-08-04</td>\n",
       "      <td>0</td>\n",
       "      <td>1.073000</td>\n",
       "      <td>08</td>\n",
       "    </tr>\n",
       "    <tr>\n",
       "      <th>16</th>\n",
       "      <td>1995-08-05</td>\n",
       "      <td>0</td>\n",
       "      <td>2.000000</td>\n",
       "      <td>08</td>\n",
       "    </tr>\n",
       "    <tr>\n",
       "      <th>17</th>\n",
       "      <td>1995-08-06</td>\n",
       "      <td>0</td>\n",
       "      <td>3.000000</td>\n",
       "      <td>08</td>\n",
       "    </tr>\n",
       "    <tr>\n",
       "      <th>18</th>\n",
       "      <td>1995-08-07</td>\n",
       "      <td>0</td>\n",
       "      <td>3.000000</td>\n",
       "      <td>08</td>\n",
       "    </tr>\n",
       "    <tr>\n",
       "      <th>19</th>\n",
       "      <td>1995-08-08</td>\n",
       "      <td>0</td>\n",
       "      <td>3.000000</td>\n",
       "      <td>08</td>\n",
       "    </tr>\n",
       "    <tr>\n",
       "      <th>20</th>\n",
       "      <td>1995-08-09</td>\n",
       "      <td>0</td>\n",
       "      <td>10.000000</td>\n",
       "      <td>08</td>\n",
       "    </tr>\n",
       "    <tr>\n",
       "      <th>21</th>\n",
       "      <td>1995-08-10</td>\n",
       "      <td>0</td>\n",
       "      <td>18.000000</td>\n",
       "      <td>08</td>\n",
       "    </tr>\n",
       "    <tr>\n",
       "      <th>22</th>\n",
       "      <td>1995-08-11</td>\n",
       "      <td>0</td>\n",
       "      <td>12.000000</td>\n",
       "      <td>08</td>\n",
       "    </tr>\n",
       "    <tr>\n",
       "      <th>23</th>\n",
       "      <td>1995-08-12</td>\n",
       "      <td>0</td>\n",
       "      <td>30.000000</td>\n",
       "      <td>08</td>\n",
       "    </tr>\n",
       "    <tr>\n",
       "      <th>24</th>\n",
       "      <td>1995-08-13</td>\n",
       "      <td>0</td>\n",
       "      <td>35.000000</td>\n",
       "      <td>08</td>\n",
       "    </tr>\n",
       "    <tr>\n",
       "      <th>25</th>\n",
       "      <td>1995-08-14</td>\n",
       "      <td>0</td>\n",
       "      <td>17.000000</td>\n",
       "      <td>08</td>\n",
       "    </tr>\n",
       "    <tr>\n",
       "      <th>26</th>\n",
       "      <td>1995-08-15</td>\n",
       "      <td>0</td>\n",
       "      <td>1.074000</td>\n",
       "      <td>08</td>\n",
       "    </tr>\n",
       "    <tr>\n",
       "      <th>27</th>\n",
       "      <td>1995-08-16</td>\n",
       "      <td>0</td>\n",
       "      <td>1.074000</td>\n",
       "      <td>08</td>\n",
       "    </tr>\n",
       "    <tr>\n",
       "      <th>28</th>\n",
       "      <td>1995-08-17</td>\n",
       "      <td>0</td>\n",
       "      <td>1.000000</td>\n",
       "      <td>08</td>\n",
       "    </tr>\n",
       "    <tr>\n",
       "      <th>29</th>\n",
       "      <td>1995-08-18</td>\n",
       "      <td>0</td>\n",
       "      <td>1.075000</td>\n",
       "      <td>08</td>\n",
       "    </tr>\n",
       "    <tr>\n",
       "      <th>30</th>\n",
       "      <td>1995-08-19</td>\n",
       "      <td>0</td>\n",
       "      <td>1.000000</td>\n",
       "      <td>08</td>\n",
       "    </tr>\n",
       "    <tr>\n",
       "      <th>...</th>\n",
       "      <td>...</td>\n",
       "      <td>...</td>\n",
       "      <td>...</td>\n",
       "      <td>...</td>\n",
       "    </tr>\n",
       "    <tr>\n",
       "      <th>201786</th>\n",
       "      <td>2018-04-06</td>\n",
       "      <td>23</td>\n",
       "      <td>101.061224</td>\n",
       "      <td>04</td>\n",
       "    </tr>\n",
       "    <tr>\n",
       "      <th>201787</th>\n",
       "      <td>2018-04-07</td>\n",
       "      <td>23</td>\n",
       "      <td>115.247319</td>\n",
       "      <td>04</td>\n",
       "    </tr>\n",
       "    <tr>\n",
       "      <th>201788</th>\n",
       "      <td>2018-04-08</td>\n",
       "      <td>23</td>\n",
       "      <td>104.855346</td>\n",
       "      <td>04</td>\n",
       "    </tr>\n",
       "    <tr>\n",
       "      <th>201789</th>\n",
       "      <td>2018-04-09</td>\n",
       "      <td>23</td>\n",
       "      <td>96.150254</td>\n",
       "      <td>04</td>\n",
       "    </tr>\n",
       "    <tr>\n",
       "      <th>201790</th>\n",
       "      <td>2018-04-10</td>\n",
       "      <td>23</td>\n",
       "      <td>96.544901</td>\n",
       "      <td>04</td>\n",
       "    </tr>\n",
       "    <tr>\n",
       "      <th>201791</th>\n",
       "      <td>2018-04-11</td>\n",
       "      <td>23</td>\n",
       "      <td>95.951640</td>\n",
       "      <td>04</td>\n",
       "    </tr>\n",
       "    <tr>\n",
       "      <th>201792</th>\n",
       "      <td>2018-04-12</td>\n",
       "      <td>23</td>\n",
       "      <td>104.050235</td>\n",
       "      <td>04</td>\n",
       "    </tr>\n",
       "    <tr>\n",
       "      <th>201793</th>\n",
       "      <td>2018-04-13</td>\n",
       "      <td>23</td>\n",
       "      <td>115.019470</td>\n",
       "      <td>04</td>\n",
       "    </tr>\n",
       "    <tr>\n",
       "      <th>201794</th>\n",
       "      <td>2018-04-14</td>\n",
       "      <td>23</td>\n",
       "      <td>112.536146</td>\n",
       "      <td>04</td>\n",
       "    </tr>\n",
       "    <tr>\n",
       "      <th>201795</th>\n",
       "      <td>2018-04-15</td>\n",
       "      <td>23</td>\n",
       "      <td>102.413184</td>\n",
       "      <td>04</td>\n",
       "    </tr>\n",
       "    <tr>\n",
       "      <th>201796</th>\n",
       "      <td>2018-04-16</td>\n",
       "      <td>23</td>\n",
       "      <td>84.128662</td>\n",
       "      <td>04</td>\n",
       "    </tr>\n",
       "    <tr>\n",
       "      <th>201797</th>\n",
       "      <td>2018-04-17</td>\n",
       "      <td>23</td>\n",
       "      <td>82.310629</td>\n",
       "      <td>04</td>\n",
       "    </tr>\n",
       "    <tr>\n",
       "      <th>201798</th>\n",
       "      <td>2018-04-18</td>\n",
       "      <td>23</td>\n",
       "      <td>115.397910</td>\n",
       "      <td>04</td>\n",
       "    </tr>\n",
       "    <tr>\n",
       "      <th>201799</th>\n",
       "      <td>2018-04-19</td>\n",
       "      <td>23</td>\n",
       "      <td>130.148787</td>\n",
       "      <td>04</td>\n",
       "    </tr>\n",
       "    <tr>\n",
       "      <th>201800</th>\n",
       "      <td>2018-04-20</td>\n",
       "      <td>23</td>\n",
       "      <td>73.651514</td>\n",
       "      <td>04</td>\n",
       "    </tr>\n",
       "    <tr>\n",
       "      <th>201801</th>\n",
       "      <td>2018-04-21</td>\n",
       "      <td>23</td>\n",
       "      <td>73.040902</td>\n",
       "      <td>04</td>\n",
       "    </tr>\n",
       "    <tr>\n",
       "      <th>201802</th>\n",
       "      <td>2018-04-22</td>\n",
       "      <td>23</td>\n",
       "      <td>73.182921</td>\n",
       "      <td>04</td>\n",
       "    </tr>\n",
       "    <tr>\n",
       "      <th>201803</th>\n",
       "      <td>2018-04-23</td>\n",
       "      <td>23</td>\n",
       "      <td>117.952904</td>\n",
       "      <td>04</td>\n",
       "    </tr>\n",
       "    <tr>\n",
       "      <th>201804</th>\n",
       "      <td>2018-04-24</td>\n",
       "      <td>23</td>\n",
       "      <td>124.376789</td>\n",
       "      <td>04</td>\n",
       "    </tr>\n",
       "    <tr>\n",
       "      <th>201805</th>\n",
       "      <td>2018-04-25</td>\n",
       "      <td>23</td>\n",
       "      <td>140.515851</td>\n",
       "      <td>04</td>\n",
       "    </tr>\n",
       "    <tr>\n",
       "      <th>201806</th>\n",
       "      <td>2018-04-26</td>\n",
       "      <td>23</td>\n",
       "      <td>72.752131</td>\n",
       "      <td>04</td>\n",
       "    </tr>\n",
       "    <tr>\n",
       "      <th>201807</th>\n",
       "      <td>2018-04-27</td>\n",
       "      <td>23</td>\n",
       "      <td>71.669496</td>\n",
       "      <td>04</td>\n",
       "    </tr>\n",
       "    <tr>\n",
       "      <th>201808</th>\n",
       "      <td>2018-04-28</td>\n",
       "      <td>23</td>\n",
       "      <td>70.008969</td>\n",
       "      <td>04</td>\n",
       "    </tr>\n",
       "    <tr>\n",
       "      <th>201809</th>\n",
       "      <td>2018-04-29</td>\n",
       "      <td>23</td>\n",
       "      <td>70.012686</td>\n",
       "      <td>04</td>\n",
       "    </tr>\n",
       "    <tr>\n",
       "      <th>201810</th>\n",
       "      <td>2018-04-30</td>\n",
       "      <td>23</td>\n",
       "      <td>67.645951</td>\n",
       "      <td>04</td>\n",
       "    </tr>\n",
       "    <tr>\n",
       "      <th>201811</th>\n",
       "      <td>2018-05-01</td>\n",
       "      <td>23</td>\n",
       "      <td>64.229226</td>\n",
       "      <td>05</td>\n",
       "    </tr>\n",
       "    <tr>\n",
       "      <th>201812</th>\n",
       "      <td>2018-05-02</td>\n",
       "      <td>23</td>\n",
       "      <td>67.832816</td>\n",
       "      <td>05</td>\n",
       "    </tr>\n",
       "    <tr>\n",
       "      <th>201813</th>\n",
       "      <td>2018-05-03</td>\n",
       "      <td>23</td>\n",
       "      <td>63.710848</td>\n",
       "      <td>05</td>\n",
       "    </tr>\n",
       "    <tr>\n",
       "      <th>201814</th>\n",
       "      <td>2018-05-04</td>\n",
       "      <td>23</td>\n",
       "      <td>64.043453</td>\n",
       "      <td>05</td>\n",
       "    </tr>\n",
       "    <tr>\n",
       "      <th>201815</th>\n",
       "      <td>2018-05-05</td>\n",
       "      <td>23</td>\n",
       "      <td>75.242918</td>\n",
       "      <td>05</td>\n",
       "    </tr>\n",
       "  </tbody>\n",
       "</table>\n",
       "<p>199819 rows × 4 columns</p>\n",
       "</div>"
      ],
      "text/plain": [
       "            Fecha Hora      Precio mes\n",
       "1      1995-07-21    0    1.073000  07\n",
       "2      1995-07-22    0    1.073000  07\n",
       "3      1995-07-23    0    1.073000  07\n",
       "4      1995-07-24    0    1.000000  07\n",
       "5      1995-07-25    0    0.990000  07\n",
       "6      1995-07-26    0    0.500000  07\n",
       "7      1995-07-27    0    0.500000  07\n",
       "8      1995-07-28    0    0.000000  07\n",
       "9      1995-07-29    0    1.000000  07\n",
       "10     1995-07-30    0    1.072000  07\n",
       "11     1995-07-31    0    0.000000  07\n",
       "12     1995-08-01    0    0.000000  08\n",
       "13     1995-08-02    0    1.073000  08\n",
       "14     1995-08-03    0    1.073000  08\n",
       "15     1995-08-04    0    1.073000  08\n",
       "16     1995-08-05    0    2.000000  08\n",
       "17     1995-08-06    0    3.000000  08\n",
       "18     1995-08-07    0    3.000000  08\n",
       "19     1995-08-08    0    3.000000  08\n",
       "20     1995-08-09    0   10.000000  08\n",
       "21     1995-08-10    0   18.000000  08\n",
       "22     1995-08-11    0   12.000000  08\n",
       "23     1995-08-12    0   30.000000  08\n",
       "24     1995-08-13    0   35.000000  08\n",
       "25     1995-08-14    0   17.000000  08\n",
       "26     1995-08-15    0    1.074000  08\n",
       "27     1995-08-16    0    1.074000  08\n",
       "28     1995-08-17    0    1.000000  08\n",
       "29     1995-08-18    0    1.075000  08\n",
       "30     1995-08-19    0    1.000000  08\n",
       "...           ...  ...         ...  ..\n",
       "201786 2018-04-06   23  101.061224  04\n",
       "201787 2018-04-07   23  115.247319  04\n",
       "201788 2018-04-08   23  104.855346  04\n",
       "201789 2018-04-09   23   96.150254  04\n",
       "201790 2018-04-10   23   96.544901  04\n",
       "201791 2018-04-11   23   95.951640  04\n",
       "201792 2018-04-12   23  104.050235  04\n",
       "201793 2018-04-13   23  115.019470  04\n",
       "201794 2018-04-14   23  112.536146  04\n",
       "201795 2018-04-15   23  102.413184  04\n",
       "201796 2018-04-16   23   84.128662  04\n",
       "201797 2018-04-17   23   82.310629  04\n",
       "201798 2018-04-18   23  115.397910  04\n",
       "201799 2018-04-19   23  130.148787  04\n",
       "201800 2018-04-20   23   73.651514  04\n",
       "201801 2018-04-21   23   73.040902  04\n",
       "201802 2018-04-22   23   73.182921  04\n",
       "201803 2018-04-23   23  117.952904  04\n",
       "201804 2018-04-24   23  124.376789  04\n",
       "201805 2018-04-25   23  140.515851  04\n",
       "201806 2018-04-26   23   72.752131  04\n",
       "201807 2018-04-27   23   71.669496  04\n",
       "201808 2018-04-28   23   70.008969  04\n",
       "201809 2018-04-29   23   70.012686  04\n",
       "201810 2018-04-30   23   67.645951  04\n",
       "201811 2018-05-01   23   64.229226  05\n",
       "201812 2018-05-02   23   67.832816  05\n",
       "201813 2018-05-03   23   63.710848  05\n",
       "201814 2018-05-04   23   64.043453  05\n",
       "201815 2018-05-05   23   75.242918  05\n",
       "\n",
       "[199819 rows x 4 columns]"
      ]
     },
     "execution_count": 277,
     "metadata": {},
     "output_type": "execute_result"
    }
   ],
   "source": [
    "df_month = dfunique.copy()\n",
    "df_month['mes'] =  df_month[['Fecha']].apply(lambda x: dt.datetime.strftime(x['Fecha'], '%m'), axis=1)\n",
    "df_month.groupby()"
   ]
  },
  {
   "cell_type": "markdown",
   "metadata": {},
   "source": [
    "---"
   ]
  }
 ],
 "metadata": {
  "anaconda-cloud": {},
  "kernel_info": {
   "name": "python3"
  },
  "kernelspec": {
   "display_name": "Python 3",
   "language": "python",
   "name": "python3"
  },
  "language_info": {
   "codemirror_mode": {
    "name": "ipython",
    "version": 3
   },
   "file_extension": ".py",
   "mimetype": "text/x-python",
   "name": "python",
   "nbconvert_exporter": "python",
   "pygments_lexer": "ipython3",
   "version": "3.6.7"
  },
  "nteract": {
   "version": "0.7.1"
  }
 },
 "nbformat": 4,
 "nbformat_minor": 2
}
